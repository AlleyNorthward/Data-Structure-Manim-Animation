{
 "cells": [
  {
   "cell_type": "code",
   "execution_count": 1,
   "id": "f32de422",
   "metadata": {},
   "outputs": [],
   "source": [
    "from manim import *\n",
    "_RF = '-v WARNING --disable_caching -qm'\n",
    "config.media_embed = True\n",
    "config.media_width = '100%'"
   ]
  },
  {
   "cell_type": "code",
   "execution_count": 2,
   "id": "bc8f8ca0",
   "metadata": {},
   "outputs": [],
   "source": [
    "from package.BulletedListBrace import BulletedListBrace\n",
    "from package.MyCurvedLine import MyCurvedLine\n",
    "from package.MovingCode import MovingCode\n",
    "from package.AlgorithmBanner import AlgorithmBanner\n",
    "from package.FileMobject import FileMobject\n",
    "from package.BigTree import BigTree\n",
    "from package.ListNode import ListNode\n",
    "from package.ListNode import ListNodeAnimation\n",
    "from package.数据结构制作规划.ListInsert_SqVideo import ListInsert_SqVideo\n",
    "from package.数据结构制作规划.VideoChapter import VideoChapter\n",
    "from package.数据结构制作规划.ListErase_SqVideo import ListErase_SqVideo\n",
    "from package.数据结构制作规划.ListErase_SqVideo import InitBasicEraseMobject"
   ]
  }
 ],
 "metadata": {
  "kernelspec": {
   "display_name": "Manimce_19_0",
   "language": "python",
   "name": "python3"
  },
  "language_info": {
   "codemirror_mode": {
    "name": "ipython",
    "version": 3
   },
   "file_extension": ".py",
   "mimetype": "text/x-python",
   "name": "python",
   "nbconvert_exporter": "python",
   "pygments_lexer": "ipython3",
   "version": "3.12.2"
  }
 },
 "nbformat": 4,
 "nbformat_minor": 5
}
